{
 "cells": [
  {
   "cell_type": "markdown",
   "metadata": {
    "nbgrader": {
     "grade": false,
     "grade_id": "cell-af6832d7668f5b3e",
     "locked": true,
     "schema_version": 1,
     "solution": false
    }
   },
   "source": [
    "# <center> ЛАБОРАТОРНАЯ  РАБОТА 2 </center>\n",
    "# <center> РЕШЕНИЕ  НЕЛИНЕЙНЫХ  УРАВНЕНИЙ </center>\n",
    "\n",
    "Теоретический материал к данной теме содержится в [1, глава 4]."
   ]
  },
  {
   "cell_type": "code",
   "execution_count": 1,
   "metadata": {
    "collapsed": true,
    "nbgrader": {
     "grade": false,
     "grade_id": "cell-fe528debaadf7095",
     "locked": true,
     "schema_version": 1,
     "solution": false
    }
   },
   "outputs": [],
   "source": [
    "from sympy.solvers import solve\n",
    "from sympy import exp, sin, cos, sqrt, log, ln, pi\n",
    "from sympy import Rational as syR\n",
    "from sympy import Symbol, diff\n",
    "from scipy.misc import derivative\n",
    "\n",
    "import numpy as np\n",
    "\n",
    "import matplotlib.pyplot as plt\n",
    "%matplotlib inline"
   ]
  },
  {
   "cell_type": "markdown",
   "metadata": {
    "nbgrader": {
     "grade": false,
     "grade_id": "cell-a80b1aad793f5ac2",
     "locked": true,
     "schema_version": 1,
     "solution": false
    }
   },
   "source": [
    "## Задание 1\n",
    "Даны два уравнения  $f(x)=0$ и $g(x)=0$. Найти с точностью $10^{-10}$  все корни уравнений, содержащиеся на отрезке [a, b]. Для решения  задачи использовать  метод бисекции.  Найти корни с помощью встроенной функции.\n",
    "## ПОРЯДОК  РЕШЕНИЯ  ЗАДАЧИ:\n",
    "1. Найти аналитическое решение уравнения  $f(x)=0$.\n",
    "2. Локализовать корни  $f(x)=0$   графически.\n",
    "3. Найти корни уравнения $f(x)=0$  с точностью    с помощью метода бисекции.\n",
    "4. Используя  встроенную функцию найти корни уравнения $f(x)=0$ с точностью  .\n",
    "5. Аналогично п. 1-4 попытаться найти корни уравнения  $g(x)=0$. Объяснить полученные результаты."
   ]
  },
  {
   "cell_type": "markdown",
   "metadata": {
    "nbgrader": {
     "grade": false,
     "grade_id": "cell-38c9cfff3dacaca0",
     "locked": true,
     "schema_version": 1,
     "solution": false
    }
   },
   "source": [
    "Ваши функции:  \n",
    "$f(x) = {Task1[TASK_VARIANT][f_latex]}$  \n",
    "$g(x) = {Task1[TASK_VARIANT][f_latex]}$\n",
    "\n",
    "Пределы:  \n",
    "$[a;b] = [Task1[TASK_VARIANT][a];Task1[TASK_VARIANT][b]] $"
   ]
  },
  {
   "cell_type": "code",
   "execution_count": 2,
   "metadata": {
    "nbgrader": {
     "grade": false,
     "grade_id": "cell-a82ba9fb70a42f73",
     "locked": true,
     "schema_version": 1,
     "solution": false
    }
   },
   "outputs": [
    {
     "ename": "NameError",
     "evalue": "name 'Task1' is not defined",
     "output_type": "error",
     "traceback": [
      "\u001b[1;31m---------------------------------------------------------------------------\u001b[0m",
      "\u001b[1;31mNameError\u001b[0m                                 Traceback (most recent call last)",
      "\u001b[1;32m<ipython-input-2-b1112d4740b4>\u001b[0m in \u001b[0;36m<module>\u001b[1;34m()\u001b[0m\n\u001b[0;32m      1\u001b[0m \u001b[0mepselon1\u001b[0m \u001b[1;33m=\u001b[0m \u001b[1;36m10\u001b[0m\u001b[1;33m**\u001b[0m\u001b[1;33m(\u001b[0m\u001b[1;33m-\u001b[0m\u001b[1;36m10\u001b[0m\u001b[1;33m)\u001b[0m\u001b[1;33m\u001b[0m\u001b[0m\n\u001b[0;32m      2\u001b[0m \u001b[1;31m# Функции\u001b[0m\u001b[1;33m\u001b[0m\u001b[1;33m\u001b[0m\u001b[0m\n\u001b[1;32m----> 3\u001b[1;33m \u001b[0mf1\u001b[0m \u001b[1;33m=\u001b[0m \u001b[1;33m{\u001b[0m\u001b[0mTask1\u001b[0m\u001b[1;33m[\u001b[0m\u001b[0mTASK_VARIANT\u001b[0m\u001b[1;33m]\u001b[0m\u001b[1;33m[\u001b[0m\u001b[0mf_latex\u001b[0m\u001b[1;33m]\u001b[0m\u001b[1;33m}\u001b[0m\u001b[1;33m\u001b[0m\u001b[0m\n\u001b[0m\u001b[0;32m      4\u001b[0m \u001b[0mg1\u001b[0m \u001b[1;33m=\u001b[0m \u001b[1;33m{\u001b[0m\u001b[0mTask1\u001b[0m\u001b[1;33m[\u001b[0m\u001b[0mTASK_VARIANT\u001b[0m\u001b[1;33m]\u001b[0m\u001b[1;33m[\u001b[0m\u001b[0mf_latex\u001b[0m\u001b[1;33m]\u001b[0m\u001b[1;33m}\u001b[0m\u001b[1;33m\u001b[0m\u001b[0m\n\u001b[0;32m      5\u001b[0m \u001b[1;31m# Пределы:\u001b[0m\u001b[1;33m\u001b[0m\u001b[1;33m\u001b[0m\u001b[0m\n",
      "\u001b[1;31mNameError\u001b[0m: name 'Task1' is not defined"
     ]
    }
   ],
   "source": [
    "epsilon1 = 10**(-10)\n",
    "# Функции\n",
    "f1 = {Task1[TASK_VARIANT][f_latex]}\n",
    "g1 = {Task1[TASK_VARIANT][f_latex]}\n",
    "# Пределы:  \n",
    "a1,b1 = {Task1[TASK_VARIANT][a]}, {Task1[TASK_VARIANT][b]}"
   ]
  },
  {
   "cell_type": "code",
   "execution_count": null,
   "metadata": {
    "collapsed": true,
    "nbgrader": {
     "grade": false,
     "grade_id": "cell-c7b26e9c038c5afc",
     "locked": true,
     "schema_version": 1,
     "solution": false
    }
   },
   "outputs": [],
   "source": [
    "Локализуйте корни уравнения графически, используя пакет matplotlib"
   ]
  },
  {
   "cell_type": "code",
   "execution_count": null,
   "metadata": {
    "collapsed": true,
    "nbgrader": {
     "grade": true,
     "grade_id": "cell-40a778165eca267f",
     "locked": false,
     "points": 1,
     "schema_version": 1,
     "solution": true
    }
   },
   "outputs": [],
   "source": [
    "## ЛОКАЛИЗУЙТЕ КОРНИ ГРАФИЧЕСКИ ##"
   ]
  },
  {
   "cell_type": "markdown",
   "metadata": {
    "nbgrader": {
     "grade": false,
     "grade_id": "cell-b0e9f8951b933204",
     "locked": true,
     "schema_version": 1,
     "solution": false
    }
   },
   "source": [
    "Допишите функцию BisecMethod, которая реализует метод бисекции."
   ]
  },
  {
   "cell_type": "code",
   "execution_count": null,
   "metadata": {
    "collapsed": true,
    "nbgrader": {
     "grade": true,
     "grade_id": "cell-c4208357eb7a6a8c",
     "locked": false,
     "points": 1,
     "schema_version": 1,
     "solution": true
    }
   },
   "outputs": [],
   "source": [
    "def BisecMethod():\n",
    "    return 0"
   ]
  },
  {
   "cell_type": "code",
   "execution_count": null,
   "metadata": {
    "collapsed": true,
    "nbgrader": {
     "grade": true,
     "grade_id": "cell-1eef655bd41799d6",
     "locked": false,
     "points": 0,
     "schema_version": 1,
     "solution": true
    }
   },
   "outputs": [],
   "source": [
    "## Тут решение ##"
   ]
  },
  {
   "cell_type": "code",
   "execution_count": null,
   "metadata": {
    "collapsed": true
   },
   "outputs": [],
   "source": [
    "## Тут тест ##"
   ]
  },
  {
   "cell_type": "code",
   "execution_count": null,
   "metadata": {
    "collapsed": true
   },
   "outputs": [],
   "source": [
    "## Решение встроенной функцией ##"
   ]
  },
  {
   "cell_type": "code",
   "execution_count": null,
   "metadata": {
    "collapsed": true
   },
   "outputs": [],
   "source": [
    "## Тест ##"
   ]
  },
  {
   "cell_type": "code",
   "execution_count": null,
   "metadata": {
    "collapsed": true
   },
   "outputs": [],
   "source": [
    "## Простор для функции g ##"
   ]
  },
  {
   "cell_type": "code",
   "execution_count": null,
   "metadata": {
    "collapsed": true
   },
   "outputs": [],
   "source": [
    "## Простор для функции g ##"
   ]
  },
  {
   "cell_type": "code",
   "execution_count": null,
   "metadata": {
    "collapsed": true
   },
   "outputs": [],
   "source": [
    "## Простор для функции g ##"
   ]
  },
  {
   "cell_type": "markdown",
   "metadata": {},
   "source": [
    "## Задание 2  \n",
    "Найти указанный в варианте  корень уравнения $f(x)=0$ с точностью $10^{-6}$ ,  двумя  способами.\n",
    "   \n",
    "   а) Использовать метод бисекции. Предварительно определить отрезок локализации  [a, b].\n",
    "   \n",
    "   b) Использовать метод Ньютона. В качестве начального приближения для метода Ньютона взять  середину отрезка локализации из п. а).\n",
    "   \n",
    "   Сравнить число итераций в п. a), b).\n"
   ]
  },
  {
   "cell_type": "markdown",
   "metadata": {
    "nbgrader": {
     "grade": false,
     "grade_id": "cell-c6c173a055e949a7",
     "locked": true,
     "schema_version": 1,
     "solution": false
    }
   },
   "source": [
    "Ваша функция $f(x) = {Task2[TASK_VARIANT][f_latex]}$  \n",
    "Корень, который Вам нужен: {Task2[TASK_VARIANT][which]}"
   ]
  },
  {
   "cell_type": "code",
   "execution_count": null,
   "metadata": {
    "collapsed": true,
    "nbgrader": {
     "grade": false,
     "grade_id": "cell-5e8e041debccad62",
     "locked": true,
     "schema_version": 1,
     "solution": false
    }
   },
   "outputs": [],
   "source": [
    "epselon2 = 10**(-6) \n",
    "f2 = {Task2[TASK_VARIANT][f]}"
   ]
  },
  {
   "cell_type": "markdown",
   "metadata": {
    "nbgrader": {
     "grade": false,
     "grade_id": "cell-a85a612ba3ed56cf",
     "locked": true,
     "schema_version": 1,
     "solution": false
    }
   },
   "source": [
    "Определите отрезок локализации"
   ]
  },
  {
   "cell_type": "code",
   "execution_count": null,
   "metadata": {
    "collapsed": true,
    "nbgrader": {
     "grade": true,
     "grade_id": "cell-11b96dfd585527d9",
     "locked": false,
     "points": 1,
     "schema_version": 1,
     "solution": true
    }
   },
   "outputs": [],
   "source": [
    "## Определите отрезок локализации ##"
   ]
  },
  {
   "cell_type": "markdown",
   "metadata": {
    "nbgrader": {
     "grade": false,
     "grade_id": "cell-7b4ff23a28959087",
     "locked": true,
     "schema_version": 1,
     "solution": false
    }
   },
   "source": [
    "Решите задачу используя метод бисекции"
   ]
  },
  {
   "cell_type": "code",
   "execution_count": null,
   "metadata": {
    "collapsed": true,
    "nbgrader": {
     "grade": true,
     "grade_id": "cell-9523d561b645c8ed",
     "locked": true,
     "points": 1,
     "schema_version": 1,
     "solution": false
    }
   },
   "outputs": [],
   "source": [
    "## Решение метод бисекции ##"
   ]
  },
  {
   "cell_type": "code",
   "execution_count": null,
   "metadata": {
    "collapsed": true,
    "nbgrader": {
     "grade": true,
     "grade_id": "cell-ec87b93c2f0ab8c2",
     "locked": true,
     "points": 1,
     "schema_version": 1,
     "solution": false
    }
   },
   "outputs": [],
   "source": [
    "## ТЕСТ ## "
   ]
  },
  {
   "cell_type": "markdown",
   "metadata": {
    "nbgrader": {
     "grade": false,
     "grade_id": "cell-4ea25f79fdd6b711",
     "locked": true,
     "schema_version": 1,
     "solution": false
    }
   },
   "source": [
    "Определите метод Ньютона решения нелинейных уравнений"
   ]
  },
  {
   "cell_type": "code",
   "execution_count": null,
   "metadata": {
    "collapsed": true,
    "nbgrader": {
     "grade": true,
     "grade_id": "cell-ed02de9cea0bc431",
     "locked": false,
     "points": 1,
     "schema_version": 1,
     "solution": true
    }
   },
   "outputs": [],
   "source": [
    "def NewtoonMethod():\n",
    "    return 0"
   ]
  },
  {
   "cell_type": "code",
   "execution_count": null,
   "metadata": {
    "collapsed": true,
    "nbgrader": {
     "grade": true,
     "grade_id": "cell-3840b5bf792e66e9",
     "locked": true,
     "points": 1,
     "schema_version": 1,
     "solution": false
    }
   },
   "outputs": [],
   "source": [
    "## Тут тест ##"
   ]
  },
  {
   "cell_type": "markdown",
   "metadata": {
    "nbgrader": {
     "grade": false,
     "grade_id": "cell-5700c3cae629edcb",
     "locked": true,
     "schema_version": 1,
     "solution": false
    }
   },
   "source": [
    "Сравните число итераций в двух методах"
   ]
  },
  {
   "cell_type": "code",
   "execution_count": null,
   "metadata": {
    "collapsed": true
   },
   "outputs": [],
   "source": [
    "## Тут сравнение числа итераций ##"
   ]
  },
  {
   "cell_type": "code",
   "execution_count": null,
   "metadata": {
    "collapsed": true
   },
   "outputs": [],
   "source": [
    "## ТЕСТ ДЛЯ ЧИСЛА ИТЕРАЦИЙ ##"
   ]
  },
  {
   "cell_type": "markdown",
   "metadata": {
    "nbgrader": {
     "grade": false,
     "grade_id": "cell-20729317f55a05a7",
     "locked": true,
     "schema_version": 1,
     "solution": false
    }
   },
   "source": [
    "## Задание 3\n",
    "\n",
    "Локализовать корни уравнения $f(x)=0$ и найти их с точностью $10^{-5}$ , используя метод простой итерации. К виду $x=\\phi(x)$, удобному для итераций, уравнение $ f(x)=0$ привести двумя способами.\n",
    "\n",
    "a) Преобразовать уравнение к виду  $x=x-\\alpha f(x)$,    где $\\alpha=\\frac{2}{M+m}$, $0 < m \\leq f'(x) \\leq M$, а $x$ принадлежит отрезку    локализации [a, b].\n",
    "     \n",
    "b) Любым  другим  преобразованием  уравнения. Проверить достаточное условие сходимости метода. \n",
    "     \n",
    "Использовать критерий окончания итерационного процесса вида  , где  в  п. a)  $q=\\frac{(M-m)}{(M+m)}$, в п. b) $q = \\max\\limits_{x \\in [a,b]}{\\phi'(x)}$\n",
    "\n",
    " Сравнить число итераций и значения величины q  в  п. a),  b)."
   ]
  },
  {
   "cell_type": "markdown",
   "metadata": {
    "nbgrader": {
     "grade": false,
     "grade_id": "cell-0245f35607b29329",
     "locked": true,
     "schema_version": 1,
     "solution": false
    }
   },
   "source": [
    "Ваша функция:  \n",
    "$ f(x) = {Task3[TASK_VARIANT][f_latex]} $ "
   ]
  },
  {
   "cell_type": "code",
   "execution_count": null,
   "metadata": {
    "collapsed": true,
    "nbgrader": {
     "grade": false,
     "grade_id": "cell-f8547287ac653944",
     "locked": true,
     "schema_version": 1,
     "solution": false
    }
   },
   "outputs": [],
   "source": [
    "epselon3 = 10**(-5)\n",
    "f3 = {Task3[TASK_VARIANT][f]}"
   ]
  },
  {
   "cell_type": "markdown",
   "metadata": {
    "nbgrader": {
     "grade": false,
     "grade_id": "cell-0bb9f84d8faa5590",
     "locked": true,
     "schema_version": 1,
     "solution": false
    }
   },
   "source": [
    "Реализуйте метод простой итерации"
   ]
  },
  {
   "cell_type": "code",
   "execution_count": null,
   "metadata": {
    "collapsed": true
   },
   "outputs": [],
   "source": [
    "def SimpleIteration():\n",
    "    return 0"
   ]
  },
  {
   "cell_type": "code",
   "execution_count": null,
   "metadata": {
    "collapsed": true
   },
   "outputs": [],
   "source": [
    "## Первое решение ##"
   ]
  },
  {
   "cell_type": "code",
   "execution_count": null,
   "metadata": {
    "collapsed": true
   },
   "outputs": [],
   "source": [
    "## Второе решение ##"
   ]
  },
  {
   "cell_type": "markdown",
   "metadata": {
    "nbgrader": {
     "grade": false,
     "grade_id": "cell-9241e2a5b5f2422d",
     "locked": true,
     "schema_version": 1,
     "solution": false
    }
   },
   "source": [
    "#### ЛИТЕРАТУРА:\n",
    "1. Амосов А.А., Дубинский Ю.А., Копченова Н.В. Вычислительные методы для инженеров. М.: Высшая школа, 1994.\n"
   ]
  }
 ],
 "metadata": {
  "celltoolbar": "Create Assignment",
  "kernelspec": {
   "display_name": "Python 3",
   "language": "python",
   "name": "python3"
  },
  "language_info": {
   "codemirror_mode": {
    "name": "ipython",
    "version": 3
   },
   "file_extension": ".py",
   "mimetype": "text/x-python",
   "name": "python",
   "nbconvert_exporter": "python",
   "pygments_lexer": "ipython3",
   "version": "3.6.2"
  }
 },
 "nbformat": 4,
 "nbformat_minor": 2
}
