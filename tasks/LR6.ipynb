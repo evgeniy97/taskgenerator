{
 "cells": [
  {
   "cell_type": "markdown",
   "metadata": {
    "nbgrader": {
     "grade": false,
     "grade_id": "cell-e45f5efa1248bc6c",
     "locked": true,
     "schema_version": 1,
     "solution": false
    }
   },
   "source": [
    "# <center> ЛАБОРАТОРНАЯ  РАБОТА 6 </center>\n",
    "# <center> ПРИБЛИЖЕНИИ ФУНКЦИЙ  </center>\n",
    "\n",
    "Теоретический материал к данной теме содержится в [1, глава 11]."
   ]
  },
  {
   "cell_type": "code",
   "execution_count": 1,
   "metadata": {
    "collapsed": true,
    "nbgrader": {
     "grade": false,
     "grade_id": "cell-24ec9834e6c042f7",
     "locked": true,
     "schema_version": 1,
     "solution": false
    }
   },
   "outputs": [],
   "source": [
    "from sympy.solvers import solve\n",
    "from sympy import exp, sin, cos, sqrt, log, ln, pi\n",
    "from sympy import Rational as syR\n",
    "from sympy import Symbol, diff\n",
    "from scipy.misc import derivative\n",
    "\n",
    "import numpy as np\n",
    "\n",
    "import matplotlib.pyplot as plt\n",
    "%matplotlib inline"
   ]
  },
  {
   "cell_type": "markdown",
   "metadata": {
    "nbgrader": {
     "grade": false,
     "grade_id": "cell-478323dd1dfd5773",
     "locked": true,
     "schema_version": 1,
     "solution": false
    }
   },
   "source": [
    "## Задача 1.\n",
    "Функция  $y=f(x)$ задана таблицей  значений $y_0,y_1,...,y_n$  в точках $x_0,x_1,...,x_n$. Используя метод наименьших квадратов (МНК), найти многочлен $P_m(x)=a_0+a_1x+...+a_mx^m$ наилучшего  среднеквадратичного  приближения оптимальной степени $m=m^*$. За оптимальное значение $m^*$ принять ту степень многочлена, начиная с которой величина $\\sigma_m=\\sqrt{\\frac{1}{n-m}\\sum_{k=0}^n (P_m(x_k)-y_k)^2}$ стабилизируется или начинает возрастать. \n",
    "## Порядок решения задачи:\n",
    "1. Задать векторы x и y исходных данных. \n",
    "2. Используя функцию mnk, найти многочлены $Pm,$ $ m=0,1,2,..$, по методу наименьших квадратов. Вычислить соответствующие им значения  $\\sigma_m$.\n",
    "3. Построить   гистограмму зависимости $\\sigma_m$  от $m$, на основании которой выбрать оптимальную степень m* многочлена наилучшего  среднеквадратичного  приближения.\n",
    "4. На одном чертеже построить графики многочленов $Pm,$ $ m=0,1,2,..., m^*$, и точечный график исходной функции. \n"
   ]
  },
  {
   "cell_type": "markdown",
   "metadata": {
    "nbgrader": {
     "grade": false,
     "grade_id": "cell-e65cebac1ffcc1b1",
     "locked": true,
     "schema_version": 1,
     "solution": false
    }
   },
   "source": [
    "Ваша вектора x и y:\n",
    "$x = {Task1[TASK_VARIANT][x_latex]}$  \n",
    "$y = {Task1[TASK_VARIANT][y_latex]}$"
   ]
  },
  {
   "cell_type": "code",
   "execution_count": null,
   "metadata": {
    "collapsed": true,
    "nbgrader": {
     "grade": false,
     "grade_id": "cell-8b1a20275d123243",
     "locked": true,
     "schema_version": 1,
     "solution": false
    }
   },
   "outputs": [],
   "source": [
    "# Вектора\n",
    "x = {Task1[TASK_VARIANT][x_latex]}\n",
    "y = {Task1[TASK_VARIANT][y_latex]}"
   ]
  },
  {
   "cell_type": "markdown",
   "metadata": {
    "nbgrader": {
     "grade": false,
     "grade_id": "cell-983beea363d4209d",
     "locked": true,
     "schema_version": 1,
     "solution": false
    }
   },
   "source": [
    "Реализуйте функцию mnk для нахождения многочленов Pm методом наименших квадратов. Вычислите значения $\\sigma_m$"
   ]
  },
  {
   "cell_type": "code",
   "execution_count": null,
   "metadata": {
    "collapsed": true,
    "nbgrader": {
     "grade": true,
     "grade_id": "cell-4fe1b1f26573ff13",
     "locked": false,
     "points": 0,
     "schema_version": 1,
     "solution": true
    }
   },
   "outputs": [],
   "source": [
    "##sigma = []\n",
    "##for m in range(9):\n",
    " ##   XX = X(m)\n",
    "  ##  A = np.linalg.inv(np.dot(XX.T,XX)).dot(XX.T).dot(y)\n",
    " ##   sigma.append(np.sqrt(1/(x.size - m)* np.linalg.norm(XX.dot(A) - y,np.inf)))"
   ]
  },
  {
   "cell_type": "markdown",
   "metadata": {
    "nbgrader": {
     "grade": false,
     "grade_id": "cell-1df05d91462f5b04",
     "locked": true,
     "schema_version": 1,
     "solution": false
    }
   },
   "source": [
    "Постройте гистограмму зависимости $\\sigma_m$ от $m$. Выберите оптимальную степень $m^*$."
   ]
  },
  {
   "cell_type": "code",
   "execution_count": null,
   "metadata": {
    "collapsed": true,
    "nbgrader": {
     "grade": true,
     "grade_id": "cell-81735bf5e226ba68",
     "locked": false,
     "points": 0,
     "schema_version": 1,
     "solution": true
    }
   },
   "outputs": [],
   "source": [
    "##график"
   ]
  },
  {
   "cell_type": "markdown",
   "metadata": {
    "nbgrader": {
     "grade": false,
     "grade_id": "cell-42a9a0ef9b1b0d59",
     "locked": true,
     "schema_version": 1,
     "solution": false
    }
   },
   "source": [
    "Постройте график многочлена и точечный график исходной функции на одном графике."
   ]
  },
  {
   "cell_type": "code",
   "execution_count": null,
   "metadata": {
    "collapsed": true,
    "nbgrader": {
     "grade": true,
     "grade_id": "cell-7324471d04cc26e8",
     "locked": false,
     "points": 0,
     "schema_version": 1,
     "solution": true
    }
   },
   "outputs": [],
   "source": [
    "##график двух функций"
   ]
  },
  {
   "cell_type": "markdown",
   "metadata": {
    "nbgrader": {
     "grade": false,
     "grade_id": "cell-990670ff1ead9a0d",
     "locked": true,
     "schema_version": 1,
     "solution": false
    }
   },
   "source": [
    "## Задача 6.2. \n",
    "В  таблице приведены  результаты наблюдений за перемещением  x материальной точки  по оси  Ох  в моменты   времени  $t\\in[t_0 ,T]$.  Известно, что движение  является равномерным и описывается линейной зависимостью $x(t)=vt+b$.  Используя  метод наименьших квадратов,   определить скорость $v$  и  спрогнозировать положение точки в момент времени  $t=2T$. На одном чертеже  построить график движения точки  и точечный график исходных наблюдений."
   ]
  },
  {
   "cell_type": "markdown",
   "metadata": {
    "nbgrader": {
     "grade": false,
     "grade_id": "cell-6b784209a870c002",
     "locked": true,
     "schema_version": 1,
     "solution": false
    }
   },
   "source": [
    "Ваши вектора t и x:\n",
    "$t = {Task1[TASK_VARIANT][t_latex]}$  \n",
    "$x2 = {Task1[TASK_VARIANT][x2_latex]}$"
   ]
  },
  {
   "cell_type": "code",
   "execution_count": null,
   "metadata": {
    "collapsed": true,
    "nbgrader": {
     "grade": false,
     "grade_id": "cell-dfd9eedced8500bf",
     "locked": true,
     "schema_version": 1,
     "solution": false
    }
   },
   "outputs": [],
   "source": [
    "#вектора\n",
    "t = {Task1[TASK_VARIANT][t_latex]}\n",
    "x2 = {Task1[TASK_VARIANT][x2_latex]}"
   ]
  },
  {
   "cell_type": "markdown",
   "metadata": {
    "nbgrader": {
     "grade": false,
     "grade_id": "cell-8c715c8cd178c0c0",
     "locked": true,
     "schema_version": 1,
     "solution": false
    }
   },
   "source": [
    "Функция имеет вид\n",
    "$$\n",
    "x(t) = \\nu t + b\n",
    "$$  \n",
    "Тогда вектор коэфицентов можно найти как \n",
    "$$\n",
    "w = (t^T t)^{-1} t^T x\n",
    "$$ \n",
    "Найдите вектор коэффициентов."
   ]
  },
  {
   "cell_type": "code",
   "execution_count": null,
   "metadata": {
    "collapsed": true,
    "nbgrader": {
     "grade": true,
     "grade_id": "cell-3e982efee6894c38",
     "locked": false,
     "points": 0,
     "schema_version": 1,
     "solution": true
    }
   },
   "outputs": [],
   "source": [
    "#код"
   ]
  },
  {
   "cell_type": "markdown",
   "metadata": {
    "nbgrader": {
     "grade": false,
     "grade_id": "cell-aaeb251f98db7baf",
     "locked": true,
     "schema_version": 1,
     "solution": false
    }
   },
   "source": [
    "Построте график движения точки  и точечный график исходных наблюдений на одном графике."
   ]
  },
  {
   "cell_type": "code",
   "execution_count": null,
   "metadata": {
    "collapsed": true,
    "nbgrader": {
     "grade": true,
     "grade_id": "cell-dd369f7ddc22b8e8",
     "locked": false,
     "points": 0,
     "schema_version": 1,
     "solution": true
    }
   },
   "outputs": [],
   "source": [
    "#график"
   ]
  },
  {
   "cell_type": "markdown",
   "metadata": {
    "nbgrader": {
     "grade": false,
     "grade_id": "cell-8963d6465254c649",
     "locked": true,
     "schema_version": 1,
     "solution": false
    }
   },
   "source": [
    "Определите скорость $v$  и  спрогнозирйте положение точки в момент времени  $t=2T$."
   ]
  },
  {
   "cell_type": "code",
   "execution_count": null,
   "metadata": {
    "collapsed": true,
    "nbgrader": {
     "grade": false,
     "grade_id": "cell-23391943a232b3a0",
     "locked": false,
     "schema_version": 1,
     "solution": true
    }
   },
   "outputs": [],
   "source": [
    "#два числа-ответ"
   ]
  },
  {
   "cell_type": "markdown",
   "metadata": {
    "nbgrader": {
     "grade": false,
     "grade_id": "cell-20d282777c968d8a",
     "locked": true,
     "schema_version": 1,
     "solution": false
    }
   },
   "source": [
    "## Задача 6.3. \n",
    "Зависимость между величинами x и  y описывается функцией   $y=f(x, a, b)$, где a и  b – неизвестные параметры. Найти  эти параметры, сведя исходную задачу к линейной задаче метода наименьших квадратов. \n",
    "\n",
    "### УКАЗАНИЕ. \n",
    "Свести исходную задачу к  линейной задаче МНК  можно, сделав подходящую замену переменных. Например, если исходная зависимость имеет вид $y=e^{a+bx^2}$, то  прологарифмировав исходное равенство и введя новые переменные $s=\\ln y$ и $t=x^2$ , получаем задачу об определении коэффициентов линейной зависимости $s= a+b t$.\n"
   ]
  },
  {
   "cell_type": "markdown",
   "metadata": {
    "nbgrader": {
     "grade": false,
     "grade_id": "cell-77ed01f3d967d59b",
     "locked": true,
     "schema_version": 1,
     "solution": false
    }
   },
   "source": [
    "Ваши вектора x и y:\n",
    "$x3 = {Task1[TASK_VARIANT][x3_latex]}$  \n",
    "$y3 = {Task1[TASK_VARIANT][y3_latex]}$\n",
    "\n",
    "Зависимость ваших переменных:\n",
    "$f3 = {Task1[TASK_VARIANT][f3_latex]}$ "
   ]
  },
  {
   "cell_type": "code",
   "execution_count": null,
   "metadata": {
    "collapsed": true,
    "nbgrader": {
     "grade": false,
     "grade_id": "cell-705bedd777f1f7d1",
     "locked": true,
     "schema_version": 1,
     "solution": false
    }
   },
   "outputs": [],
   "source": [
    "#вектора x и y\n",
    "x3 = {Task1[TASK_VARIANT][x3_latex]}\n",
    "y3 = {Task1[TASK_VARIANT][y3_latex]}\n",
    "\n",
    "#Зависимость \n",
    "f3 = {Task1[TASK_VARIANT][f3_latex]}"
   ]
  },
  {
   "cell_type": "markdown",
   "metadata": {
    "nbgrader": {
     "grade": false,
     "grade_id": "cell-ce1ffa8a2fa7611c",
     "locked": true,
     "schema_version": 1,
     "solution": false
    }
   },
   "source": [
    "Сведите исходную задачу к линейной МНК."
   ]
  },
  {
   "cell_type": "code",
   "execution_count": null,
   "metadata": {
    "collapsed": true,
    "nbgrader": {
     "grade": true,
     "grade_id": "cell-357aef828d22cae1",
     "locked": false,
     "points": 0,
     "schema_version": 1,
     "solution": true
    }
   },
   "outputs": [],
   "source": [
    "#математическое решение"
   ]
  },
  {
   "cell_type": "markdown",
   "metadata": {
    "nbgrader": {
     "grade": false,
     "grade_id": "cell-aa61a79edc88b960",
     "locked": true,
     "schema_version": 1,
     "solution": false
    }
   },
   "source": [
    "Построте график аналогично второй задаче."
   ]
  },
  {
   "cell_type": "code",
   "execution_count": null,
   "metadata": {
    "collapsed": true,
    "nbgrader": {
     "grade": true,
     "grade_id": "cell-8830408d92e4e47a",
     "locked": false,
     "points": 0,
     "schema_version": 1,
     "solution": true
    }
   },
   "outputs": [],
   "source": [
    "##график"
   ]
  },
  {
   "cell_type": "code",
   "execution_count": null,
   "metadata": {
    "collapsed": true
   },
   "outputs": [],
   "source": []
  },
  {
   "cell_type": "markdown",
   "metadata": {
    "nbgrader": {
     "grade": false,
     "grade_id": "cell-fc2b378c3e44da19",
     "locked": true,
     "schema_version": 1,
     "solution": false
    }
   },
   "source": [
    "#### ЛИТЕРАТУРА:\n",
    "1. Амосов А.А., Дубинский Ю.А., Копченова Н.В. Вычислительные методы для инженеров. М.: Высшая школа, 1994."
   ]
  },
  {
   "cell_type": "code",
   "execution_count": null,
   "metadata": {
    "collapsed": true
   },
   "outputs": [],
   "source": []
  }
 ],
 "metadata": {
  "celltoolbar": "Create Assignment",
  "kernelspec": {
   "display_name": "Python 3",
   "language": "python",
   "name": "python3"
  },
  "language_info": {
   "codemirror_mode": {
    "name": "ipython",
    "version": 3
   },
   "file_extension": ".py",
   "mimetype": "text/x-python",
   "name": "python",
   "nbconvert_exporter": "python",
   "pygments_lexer": "ipython3",
   "version": "3.6.2"
  }
 },
 "nbformat": 4,
 "nbformat_minor": 2
}
