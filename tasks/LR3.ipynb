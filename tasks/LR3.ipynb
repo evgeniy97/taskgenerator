{
 "cells": [
  {
   "cell_type": "markdown",
   "metadata": {
    "nbgrader": {
     "grade": false,
     "grade_id": "cell-42e148b5183a4fc5",
     "locked": true,
     "schema_version": 1,
     "solution": false
    }
   },
   "source": [
    "# <center> ЛАБОРАТОРНАЯ  РАБОТА 3 </center>\n",
    "# <center> РЕШЕНИЕ СИСТЕМ ЛИНЕЙНЫХ АЛГЕБРАИЧЕСКИХ УРАВНЕНИЙ ПРЯМЫМИ МЕТОДАМИ. ТЕОРИЯ ВОЗМУЩЕНИЙ\n",
    " </center>\n",
    "\n",
    "Теоретический материал к данной теме содержится в [1, глава 5]."
   ]
  },
  {
   "cell_type": "code",
   "execution_count": 2,
   "metadata": {
    "collapsed": true,
    "nbgrader": {
     "grade": false,
     "grade_id": "cell-92aa8a5d062c2152",
     "locked": true,
     "schema_version": 1,
     "solution": false
    }
   },
   "outputs": [],
   "source": [
    "from sympy.solvers import solve\n",
    "from sympy import exp, sin, cos, sqrt, log, ln, pi\n",
    "from sympy import Rational as syR\n",
    "from sympy import Symbol, diff\n",
    "from scipy.misc import derivative\n",
    "\n",
    "import numpy as np\n",
    "\n",
    "import matplotlib.pyplot as plt\n",
    "%matplotlib inline"
   ]
  },
  {
   "cell_type": "markdown",
   "metadata": {
    "nbgrader": {
     "grade": false,
     "grade_id": "cell-675c5aed455ef4fd",
     "locked": true,
     "schema_version": 1,
     "solution": false
    }
   },
   "source": [
    "## Задание 1\n",
    "Дана система уравнений $Ax=b$ порядка n. Исследовать зависимость погрешности решения x от погрешностей  правой части системы b.  \n",
    "## Порядок решения задачи:\n",
    "1. Задать матрицу системы A и вектор правой части b. Составить программу, реализующую метод Гаусса (схема частичного выбора) для произвольной системы $Ax=b$. Используя составленную программу, найти решение заданной системы $Ax=b$. \n",
    "2. С помощью встроенной функции вычислить число обусловленности матрицы  A.\n",
    "3. Принимая решение x, полученное в п. 1, за точное, вычислить вектор $d=(d_1,...,d_n)^T$, $$d_i=\\frac{||x-x^i||_{\\infty}}{||x||_{\\infty}},\\quad i=1, ..., n,$$ \n",
    "относительных погрешностей решений $x^i$ систем $Ax^i=b^i$ , где  компоненты векторов $b^i$ вычисляются по формулам: \n",
    "\\begin{equation*}\n",
    " b^{i}_{k}= \n",
    " \\begin{cases}\n",
    "   b_k+\\Delta ,&\\text{k=i}\\\\\n",
    "   b_k ,&\\text{$k\\neq i$}\n",
    " \\end{cases}\n",
    " ;k=1,...,n\n",
    "\\end{equation*}\n",
    "( $\\Delta$ - произвольная величина погрешности).\n",
    "4.  На основе вычисленного вектора d построить гистограмму. По гистограмме определить компоненту $b_m$  вектора b, которая оказывает наибольшее влияние на погрешность решения. \n",
    "5. Оценить теоретически погрешность решения $x^m$ по  формуле:$$\\delta(x^m)<= cond(A)*\\delta(b^m)$$\n",
    "Сравнить значение $\\delta(x^m)$ со значением практической погрешности $d_m$. Объяснить полученные результаты."
   ]
  },
  {
   "cell_type": "markdown",
   "metadata": {
    "nbgrader": {
     "grade": false,
     "grade_id": "cell-44b0dea2bc06489f",
     "locked": true,
     "schema_version": 1,
     "solution": false
    }
   },
   "source": [
    "Компоненты вектора  b задаются формулой  $b_i=N$ ,  $\\forall i=1...n$,  коэффициенты   $c=c_{ij}=0.1* N *i*j$ ,$\\forall i,j=1,...,n$\n",
    "\n",
    "Ваши компоненты вектора и матрицы:  \n",
    "$c(i,j) = {Task1[TASK_VARIANT][f_latex]}$  \n",
    "$a(i,j) = {Task1[TASK_VARIANT][f_latex]}$\n",
    "\n",
    "$N={[Task1[TASK_VARIANT][N]};$"
   ]
  },
  {
   "cell_type": "code",
   "execution_count": 5,
   "metadata": {
    "nbgrader": {
     "grade": false,
     "grade_id": "cell-199ce4080cf455ce",
     "locked": true,
     "schema_version": 1,
     "solution": false
    }
   },
   "outputs": [
    {
     "ename": "NameError",
     "evalue": "name 'Task1' is not defined",
     "output_type": "error",
     "traceback": [
      "\u001b[1;31m---------------------------------------------------------------------------\u001b[0m",
      "\u001b[1;31mNameError\u001b[0m                                 Traceback (most recent call last)",
      "\u001b[1;32m<ipython-input-5-cc68f8eec22b>\u001b[0m in \u001b[0;36m<module>\u001b[1;34m()\u001b[0m\n\u001b[0;32m      1\u001b[0m \u001b[0mepsilon1\u001b[0m \u001b[1;33m=\u001b[0m \u001b[1;36m10\u001b[0m\u001b[1;33m**\u001b[0m\u001b[1;33m(\u001b[0m\u001b[1;33m-\u001b[0m\u001b[1;36m5\u001b[0m\u001b[1;33m)\u001b[0m\u001b[1;33m\u001b[0m\u001b[0m\n\u001b[0;32m      2\u001b[0m \u001b[1;31m# Компоненты\u001b[0m\u001b[1;33m\u001b[0m\u001b[1;33m\u001b[0m\u001b[0m\n\u001b[1;32m----> 3\u001b[1;33m \u001b[0mc1\u001b[0m \u001b[1;33m=\u001b[0m \u001b[1;33m{\u001b[0m\u001b[0mTask1\u001b[0m\u001b[1;33m[\u001b[0m\u001b[0mTASK_VARIANT\u001b[0m\u001b[1;33m]\u001b[0m\u001b[1;33m[\u001b[0m\u001b[0mf_latex\u001b[0m\u001b[1;33m]\u001b[0m\u001b[1;33m}\u001b[0m\u001b[1;33m\u001b[0m\u001b[0m\n\u001b[0m\u001b[0;32m      4\u001b[0m \u001b[0ma1\u001b[0m \u001b[1;33m=\u001b[0m \u001b[1;33m{\u001b[0m\u001b[0mTask1\u001b[0m\u001b[1;33m[\u001b[0m\u001b[0mTASK_VARIANT\u001b[0m\u001b[1;33m]\u001b[0m\u001b[1;33m[\u001b[0m\u001b[0mf_latex\u001b[0m\u001b[1;33m]\u001b[0m\u001b[1;33m}\u001b[0m\u001b[1;33m\u001b[0m\u001b[0m\n\u001b[0;32m      5\u001b[0m \u001b[1;33m\u001b[0m\u001b[0m\n",
      "\u001b[1;31mNameError\u001b[0m: name 'Task1' is not defined"
     ]
    }
   ],
   "source": [
    "epsilon1 = 10**(-5)\n",
    "# Компоненты \n",
    "c1 = {Task1[TASK_VARIANT][f_latex]}\n",
    "a1 = {Task1[TASK_VARIANT][f_latex]}\n",
    "\n",
    "N1 = {Task1[TASK_VARIANT][N]}"
   ]
  },
  {
   "cell_type": "markdown",
   "metadata": {
    "nbgrader": {
     "grade": false,
     "grade_id": "cell-cca003b47fba0af3",
     "locked": true,
     "schema_version": 1,
     "solution": false
    }
   },
   "source": [
    "Решите систему с помощью встроенной функции np.linalg.solve"
   ]
  },
  {
   "cell_type": "code",
   "execution_count": null,
   "metadata": {
    "collapsed": true
   },
   "outputs": [],
   "source": []
  },
  {
   "cell_type": "markdown",
   "metadata": {
    "nbgrader": {
     "grade": false,
     "grade_id": "cell-f9d08e3a31940807",
     "locked": true,
     "schema_version": 1,
     "solution": false
    }
   },
   "source": [
    "Напишите функцию meth_Gauss, которая реализует метод Гаусса"
   ]
  },
  {
   "cell_type": "code",
   "execution_count": null,
   "metadata": {
    "collapsed": true,
    "nbgrader": {
     "grade": true,
     "grade_id": "cell-e9f71a423055dbd4",
     "locked": false,
     "points": 0,
     "schema_version": 1,
     "solution": true
    }
   },
   "outputs": [],
   "source": [
    "def meth_Gauss(matrix, string_b):\n",
    "    \n",
    "    return return np.array([b[i]/A[i, i] for i in range(n)])"
   ]
  },
  {
   "cell_type": "markdown",
   "metadata": {
    "nbgrader": {
     "grade": false,
     "grade_id": "cell-645aebcb48d5c9e6",
     "locked": true,
     "schema_version": 1,
     "solution": false
    }
   },
   "source": [
    "Определите обусловленность матрицы с помощью встроенной функции np.linalg.cond"
   ]
  },
  {
   "cell_type": "code",
   "execution_count": null,
   "metadata": {
    "collapsed": true,
    "nbgrader": {
     "grade": false,
     "grade_id": "cell-a28bc9f7e98cfa24",
     "locked": false,
     "schema_version": 1,
     "solution": true
    }
   },
   "outputs": [],
   "source": [
    "##Ответ-число обсуловленности"
   ]
  },
  {
   "cell_type": "markdown",
   "metadata": {
    "nbgrader": {
     "grade": false,
     "grade_id": "cell-bbccd90b276da5c6",
     "locked": true,
     "schema_version": 1,
     "solution": false
    }
   },
   "source": [
    "Реализуйте функцию для вычисления вектора d"
   ]
  },
  {
   "cell_type": "code",
   "execution_count": null,
   "metadata": {
    "collapsed": true,
    "nbgrader": {
     "grade": true,
     "grade_id": "cell-ba845df0ace5a04b",
     "locked": false,
     "points": 0,
     "schema_version": 1,
     "solution": true
    }
   },
   "outputs": [],
   "source": [
    "##решение"
   ]
  },
  {
   "cell_type": "markdown",
   "metadata": {
    "nbgrader": {
     "grade": false,
     "grade_id": "cell-62ac15c5cf567fb6",
     "locked": true,
     "schema_version": 1,
     "solution": false
    }
   },
   "source": [
    "Постройте гистограмму, используя пакет matplotlib. Укажите компоненту вектора b, которая больше всего влияет на погрешность решения"
   ]
  },
  {
   "cell_type": "code",
   "execution_count": null,
   "metadata": {
    "collapsed": true,
    "nbgrader": {
     "grade": true,
     "grade_id": "cell-4b75bb9b38080e29",
     "locked": false,
     "points": 0,
     "schema_version": 1,
     "solution": true
    }
   },
   "outputs": [],
   "source": [
    "##график"
   ]
  },
  {
   "cell_type": "markdown",
   "metadata": {
    "nbgrader": {
     "grade": false,
     "grade_id": "cell-859ae82c065b63ea",
     "locked": true,
     "schema_version": 1,
     "solution": false
    }
   },
   "source": [
    "Оцените погреность решения по формуле:\n",
    "$$\\delta(x^m)<= cond(A)*\\delta(b^m)$$"
   ]
  },
  {
   "cell_type": "code",
   "execution_count": null,
   "metadata": {
    "collapsed": true
   },
   "outputs": [],
   "source": [
    "##массив тру"
   ]
  }
 ],
 "metadata": {
  "celltoolbar": "Create Assignment",
  "kernelspec": {
   "display_name": "Python 3",
   "language": "python",
   "name": "python3"
  },
  "language_info": {
   "codemirror_mode": {
    "name": "ipython",
    "version": 3
   },
   "file_extension": ".py",
   "mimetype": "text/x-python",
   "name": "python",
   "nbconvert_exporter": "python",
   "pygments_lexer": "ipython3",
   "version": "3.6.2"
  }
 },
 "nbformat": 4,
 "nbformat_minor": 2
}
