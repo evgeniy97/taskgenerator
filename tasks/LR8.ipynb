{
 "cells": [
  {
   "cell_type": "markdown",
   "metadata": {
    "nbgrader": {
     "grade": false,
     "grade_id": "cell-e99f606d923cd57f",
     "locked": true,
     "schema_version": 1,
     "solution": false
    }
   },
   "source": [
    "# <center> ЛАБОРАТОРНАЯ  РАБОТА 8 </center>\n",
    "# <center> ЧИСЛЕНННОЕ ИНТЕГРИРОВАНИЕ </center>\n",
    "\n",
    "Теоретический материал к данной теме содержится в [1, глава 13]."
   ]
  },
  {
   "cell_type": "code",
   "execution_count": 1,
   "metadata": {
    "collapsed": true,
    "nbgrader": {
     "grade": false,
     "grade_id": "cell-d26c1b8ca2ed7731",
     "locked": true,
     "schema_version": 1,
     "solution": false
    }
   },
   "outputs": [],
   "source": [
    "from sympy.solvers import solve\n",
    "from sympy import exp, sin, cos, sqrt, log, ln, pi\n",
    "from sympy import Rational as syR\n",
    "from sympy import Symbol, diff\n",
    "from scipy.misc import derivative\n",
    "\n",
    "import numpy as np\n",
    "\n",
    "import matplotlib.pyplot as plt\n",
    "%matplotlib inline"
   ]
  },
  {
   "cell_type": "markdown",
   "metadata": {},
   "source": [
    "## Задача 1.\n",
    "Вычислить значение интеграла $I=\\int_1^{1.44} P_n(x) dx$, где $P_n(x)=\\sum_{i=0}^n c_ix^i$, с помощью квадратурных формул трапеций и Симпсона для элементарного отрезка интегрирования. Оценить величину погрешности. Применяя те же квадратурные формулы для составного отрезка интегрирования, вычислить интеграл I с точностью 0.0001. Предварительно оценить шаг интегрирования, при котором достигается заданная точность.\n",
    "\n",
    "## ПОРЯДОК РЕШЕНИЯ ЗАДАЧИ:\n",
    "\n",
    "1. Вычислить значение интеграла I аналитически.\n",
    "\n",
    "2. Задать многочлен $P_n(x)$. Вычислить значение интеграла I по формулам трапеций и Симпсона, считая отрезок $[1,1.44]$ элементарным отрезком интегрирования.\n",
    "\n",
    "3. Найти абсолютные погрешности результатов.\n",
    "\n",
    "4. Используя выражение для остаточных членов интегрирования, оценить шаги интегрирования, при которых величина погрешности каждой квадратурной формулы будет меньше 0.0001.\n",
    "\n",
    "5. Вычислить значения интеграла по составной квадратурной формуле с найденным шагом.\n",
    "\n",
    "6. Найти абсолютные погрешности результатов."
   ]
  },
  {
   "cell_type": "markdown",
   "metadata": {
    "nbgrader": {
     "grade": false,
     "grade_id": "cell-638f76db21d1eb03",
     "locked": true,
     "schema_version": 1,
     "solution": false
    }
   },
   "source": [
    "Ваша коэффциенты при стеменях х:\n",
    "$co = {Task1[TASK_VARIANT][c0_latex]}$  \n",
    "$c1 = {Task1[TASK_VARIANT][c1_latex]}$\n",
    "$c2 = {Task1[TASK_VARIANT][c2_latex]}$\n",
    "$c3 = {Task1[TASK_VARIANT][c3_latex]}$\n",
    "$c4 = {Task1[TASK_VARIANT][c4_latex]}$"
   ]
  },
  {
   "cell_type": "code",
   "execution_count": null,
   "metadata": {
    "collapsed": true
   },
   "outputs": [],
   "source": [
    "epsilon=10**(-4)\n",
    "#коэффициенты\n",
    "co = {Task1[TASK_VARIANT][c0_latex]}  \n",
    "c1 = {Task1[TASK_VARIANT][c1_latex]}\n",
    "c2 = {Task1[TASK_VARIANT][c2_latex]}\n",
    "c3 = {Task1[TASK_VARIANT][c3_latex]}\n",
    "c4 = {Task1[TASK_VARIANT][c4_latex]}"
   ]
  },
  {
   "cell_type": "markdown",
   "metadata": {
    "nbgrader": {
     "grade": false,
     "grade_id": "cell-fd0b5ced2b276fcc",
     "locked": true,
     "schema_version": 1,
     "solution": false
    }
   },
   "source": [
    "Вычислите полученный интеграл аналитически."
   ]
  },
  {
   "cell_type": "code",
   "execution_count": null,
   "metadata": {
    "collapsed": true,
    "nbgrader": {
     "grade": true,
     "grade_id": "cell-86e7458352c9042d",
     "locked": false,
     "points": 0,
     "schema_version": 1,
     "solution": true
    }
   },
   "outputs": [],
   "source": [
    "#решение"
   ]
  },
  {
   "cell_type": "markdown",
   "metadata": {
    "nbgrader": {
     "grade": false,
     "grade_id": "cell-b439be0b1d948dd5",
     "locked": true,
     "schema_version": 1,
     "solution": false
    }
   },
   "source": [
    "Реализуйте метод трапеции.\n",
    "\n",
    "Если отрезок ${\\displaystyle \\left[a,b\\right]}$ является элементарным и не подвергается дальнейшему разбиению, значение интеграла можно найти по формуле:\n",
    "$$\\int _{a}^{b}f(x)\\,dx={\\frac  {f(a)+f(b)}{2}}(b-a)$$"
   ]
  },
  {
   "cell_type": "code",
   "execution_count": null,
   "metadata": {
    "collapsed": true,
    "nbgrader": {
     "grade": false,
     "grade_id": "cell-bc2e005059350c59",
     "locked": false,
     "schema_version": 1,
     "solution": true
    }
   },
   "outputs": [],
   "source": [
    "#значение по методу трапеции"
   ]
  },
  {
   "cell_type": "markdown",
   "metadata": {},
   "source": [
    "Реализуйте метод Симпсона.\n",
    "\n",
    "Формулой Симпсона называется интеграл от интерполяционного многочлена второй степени на отрезке [a,b]:\n",
    "\n",
    "$${\\displaystyle {\\int \\limits _{a}^{b}f(x)dx}\\approx {\\int \\limits _{a}^{b}{p_{2}(x)}dx}={\\frac {b-a}{6}}{\\left(f(a)+4f\\left({\\frac {a+b}{2}}\\right)+f(b)\\right)},} {\\int \\limits _{a}^{b}f(x)dx}\\approx {\\int \\limits _{{a}}^{{b}}{p_{2}(x)}dx}={\\frac  {b-a}{6}}{\\left(f(a)+4f\\left({\\frac  {a+b}{2}}\\right)+f(b)\\right)},$$"
   ]
  },
  {
   "cell_type": "code",
   "execution_count": null,
   "metadata": {
    "collapsed": true,
    "nbgrader": {
     "grade": false,
     "grade_id": "cell-24482ed0d2141a6f",
     "locked": false,
     "schema_version": 1,
     "solution": true
    }
   },
   "outputs": [],
   "source": [
    "#решение методом Симпсона"
   ]
  },
  {
   "cell_type": "markdown",
   "metadata": {
    "nbgrader": {
     "grade": false,
     "grade_id": "cell-25dd470cead7901a",
     "locked": true,
     "schema_version": 1,
     "solution": false
    }
   },
   "source": [
    "Оцените погрешность в методе трапеций по следующей формуле:\n",
    "$$|R|=\\frac{M_2(b-a)}{12}h^2, \\quad M_2=max|f''(x)|, x \\in [x,b]$$"
   ]
  },
  {
   "cell_type": "code",
   "execution_count": null,
   "metadata": {
    "collapsed": true
   },
   "outputs": [],
   "source": [
    "#код"
   ]
  },
  {
   "cell_type": "code",
   "execution_count": null,
   "metadata": {
    "collapsed": true
   },
   "outputs": [],
   "source": [
    "#код"
   ]
  },
  {
   "cell_type": "code",
   "execution_count": null,
   "metadata": {
    "collapsed": true,
    "nbgrader": {
     "grade": false,
     "grade_id": "cell-e30d786e51ca0059",
     "locked": false,
     "schema_version": 1,
     "solution": true
    }
   },
   "outputs": [],
   "source": [
    "#ответ-погрешность"
   ]
  },
  {
   "cell_type": "markdown",
   "metadata": {
    "nbgrader": {
     "grade": false,
     "grade_id": "cell-9044158cc117c23a",
     "locked": true,
     "schema_version": 1,
     "solution": false
    }
   },
   "source": [
    "Оцените погрешность для метода Симпсона по формуле:\n",
    "$$|R|=\\dfrac{M_4}{2880}(b - a)h^4$$"
   ]
  },
  {
   "cell_type": "code",
   "execution_count": null,
   "metadata": {
    "collapsed": true
   },
   "outputs": [],
   "source": [
    "#код"
   ]
  },
  {
   "cell_type": "code",
   "execution_count": null,
   "metadata": {
    "collapsed": true
   },
   "outputs": [],
   "source": [
    "#код"
   ]
  },
  {
   "cell_type": "code",
   "execution_count": null,
   "metadata": {
    "collapsed": true,
    "nbgrader": {
     "grade": false,
     "grade_id": "cell-32376c1a3d514bd9",
     "locked": false,
     "schema_version": 1,
     "solution": true
    }
   },
   "outputs": [],
   "source": [
    "#ответ-погрешность"
   ]
  },
  {
   "cell_type": "markdown",
   "metadata": {
    "nbgrader": {
     "grade": false,
     "grade_id": "cell-6acf690b794764e5",
     "locked": true,
     "schema_version": 1,
     "solution": false
    }
   },
   "source": [
    "Найдите асболютные значение погрености для метода трапеций."
   ]
  },
  {
   "cell_type": "code",
   "execution_count": null,
   "metadata": {
    "collapsed": true,
    "nbgrader": {
     "grade": false,
     "grade_id": "cell-c05c4cafdbd82f6d",
     "locked": false,
     "schema_version": 1,
     "solution": true
    }
   },
   "outputs": [],
   "source": [
    "#ответ-погрешнрость"
   ]
  },
  {
   "cell_type": "markdown",
   "metadata": {
    "nbgrader": {
     "grade": false,
     "grade_id": "cell-3ab64c1df788970d",
     "locked": true,
     "schema_version": 1,
     "solution": false
    }
   },
   "source": [
    "Найдите асболютные значение погрености для метода Симпсона."
   ]
  },
  {
   "cell_type": "code",
   "execution_count": null,
   "metadata": {
    "collapsed": true,
    "nbgrader": {
     "grade": false,
     "grade_id": "cell-89e8348a8e7375ad",
     "locked": false,
     "schema_version": 1,
     "solution": true
    }
   },
   "outputs": [],
   "source": [
    "#ответ"
   ]
  },
  {
   "cell_type": "markdown",
   "metadata": {
    "nbgrader": {
     "grade": false,
     "grade_id": "cell-d1f6939c129d8353",
     "locked": true,
     "schema_version": 1,
     "solution": false
    }
   },
   "source": [
    "Оцените шаги интегрирования, при которых величина погрешности каждой квадратурной формулы будет меньше 0.0001.\n",
    "\n",
    "### Указание.\n",
    "Для метода трапеции: $R = \\frac{M_2(b-a)h^2}{12}$, следовательно $h = \\sqrt{\\frac{12R}{M2(b-a)}}$\n",
    "\n",
    "Для формулы Симпсона:  $R = \\frac{M_4(b-a)h^4}{2880}$, следовательно $h = \\sqrt[4]{\\frac{2880R}{M_4(b-a)}}$"
   ]
  },
  {
   "cell_type": "code",
   "execution_count": null,
   "metadata": {
    "collapsed": true,
    "nbgrader": {
     "grade": false,
     "grade_id": "cell-a351f75feb4be4ff",
     "locked": false,
     "schema_version": 1,
     "solution": true
    }
   },
   "outputs": [],
   "source": [
    "#ответ для трапеции"
   ]
  },
  {
   "cell_type": "code",
   "execution_count": null,
   "metadata": {
    "collapsed": true,
    "nbgrader": {
     "grade": false,
     "grade_id": "cell-ec79cfdea350c272",
     "locked": false,
     "schema_version": 1,
     "solution": true
    }
   },
   "outputs": [],
   "source": [
    "#ответ для Сипмсона"
   ]
  },
  {
   "cell_type": "markdown",
   "metadata": {
    "nbgrader": {
     "grade": false,
     "grade_id": "cell-1206fa7852ad59c8",
     "locked": true,
     "schema_version": 1,
     "solution": false
    }
   },
   "source": [
    "Вычислите значения интеграла по составной квадратурной формуле с найденным шагом.\n",
    "Найдите абсолютные погрешности результатов"
   ]
  },
  {
   "cell_type": "code",
   "execution_count": null,
   "metadata": {
    "collapsed": true
   },
   "outputs": [],
   "source": [
    "#код"
   ]
  },
  {
   "cell_type": "code",
   "execution_count": null,
   "metadata": {
    "collapsed": true
   },
   "outputs": [],
   "source": [
    "#код"
   ]
  },
  {
   "cell_type": "code",
   "execution_count": null,
   "metadata": {
    "collapsed": true
   },
   "outputs": [],
   "source": [
    "#код"
   ]
  },
  {
   "cell_type": "markdown",
   "metadata": {
    "nbgrader": {
     "grade": false,
     "grade_id": "cell-d81c79660625e2da",
     "locked": true,
     "schema_version": 1,
     "solution": false
    }
   },
   "source": [
    "## Задача 3. \n",
    "Вычислить значение интеграла $\\int_a^b f(x) dx$ аналитически и, используя формулу центральных прямоугольников, с шагами $h:\\dfrac{b-a}{2}, \\dfrac{b-a}{3}, ..., \\dfrac{b-a}{20}$. При указанных значениях h найти абсолютную погрешность и оценки теоретической абсолютной погрешности. На одном чертеже построить графики найденных погрешностей."
   ]
  },
  {
   "cell_type": "markdown",
   "metadata": {
    "nbgrader": {
     "grade": false,
     "grade_id": "cell-37a16669f1f72cd0",
     "locked": true,
     "schema_version": 1,
     "solution": false
    }
   },
   "source": [
    "Ваши функции и отрезок интегрирования:\n",
    "$f3 = {Task1[TASK_VARIANT][f3_latex]}$  \n",
    "$[a;b] = [Task1[TASK_VARIANT][a];Task1[TASK_VARIANT][b]] $"
   ]
  },
  {
   "cell_type": "code",
   "execution_count": null,
   "metadata": {
    "collapsed": true,
    "nbgrader": {
     "grade": false,
     "grade_id": "cell-c287488c8f1b37eb",
     "locked": true,
     "schema_version": 1,
     "solution": false
    }
   },
   "outputs": [],
   "source": [
    "f3 = {Task1[TASK_VARIANT][f3_latex]}\n",
    "[a;b] = [Task1[TASK_VARIANT][a];Task1[TASK_VARIANT][b]] "
   ]
  },
  {
   "cell_type": "markdown",
   "metadata": {
    "nbgrader": {
     "grade": false,
     "grade_id": "cell-382bed4a882f35d4",
     "locked": true,
     "schema_version": 1,
     "solution": false
    }
   },
   "source": [
    "Вычислите интеграл аналитически."
   ]
  },
  {
   "cell_type": "code",
   "execution_count": null,
   "metadata": {
    "collapsed": true,
    "nbgrader": {
     "grade": true,
     "grade_id": "cell-b31d2f1d62e8fa4a",
     "locked": false,
     "points": 0,
     "schema_version": 1,
     "solution": true
    }
   },
   "outputs": [],
   "source": []
  },
  {
   "cell_type": "markdown",
   "metadata": {
    "nbgrader": {
     "grade": false,
     "grade_id": "cell-6cd6e71d007d77c9",
     "locked": true,
     "schema_version": 1,
     "solution": false
    }
   },
   "source": [
    "Вычислите абсолютную погрешность при указанных значениях h."
   ]
  },
  {
   "cell_type": "code",
   "execution_count": null,
   "metadata": {
    "collapsed": true,
    "nbgrader": {
     "grade": true,
     "grade_id": "cell-d142c69cbc930f58",
     "locked": false,
     "points": 0,
     "schema_version": 1,
     "solution": true
    }
   },
   "outputs": [],
   "source": [
    "#"
   ]
  },
  {
   "cell_type": "code",
   "execution_count": null,
   "metadata": {
    "collapsed": true
   },
   "outputs": [],
   "source": [
    "#"
   ]
  },
  {
   "cell_type": "markdown",
   "metadata": {
    "nbgrader": {
     "grade": false,
     "grade_id": "cell-78318f38618c5554",
     "locked": true,
     "schema_version": 1,
     "solution": false
    }
   },
   "source": [
    "Найдите оценки теоретической абсолютной погрешности при указанных значениях h."
   ]
  },
  {
   "cell_type": "code",
   "execution_count": null,
   "metadata": {
    "collapsed": true,
    "nbgrader": {
     "grade": true,
     "grade_id": "cell-815da7a2f51f3bcf",
     "locked": false,
     "points": 0,
     "schema_version": 1,
     "solution": true
    }
   },
   "outputs": [],
   "source": [
    "#"
   ]
  },
  {
   "cell_type": "code",
   "execution_count": null,
   "metadata": {
    "collapsed": true,
    "nbgrader": {
     "grade": true,
     "grade_id": "cell-22e9ccd3bf146193",
     "locked": false,
     "points": 0,
     "schema_version": 1,
     "solution": true
    }
   },
   "outputs": [],
   "source": [
    "#"
   ]
  },
  {
   "cell_type": "markdown",
   "metadata": {
    "nbgrader": {
     "grade": false,
     "grade_id": "cell-548c96f77b0369bd",
     "locked": true,
     "schema_version": 1,
     "solution": false
    }
   },
   "source": [
    "Постройте графики найденных погрешностей на одном чертеже."
   ]
  },
  {
   "cell_type": "code",
   "execution_count": null,
   "metadata": {
    "collapsed": true,
    "nbgrader": {
     "grade": true,
     "grade_id": "cell-d3d71524acbf32ab",
     "locked": false,
     "points": 0,
     "schema_version": 1,
     "solution": true
    }
   },
   "outputs": [],
   "source": [
    "#график"
   ]
  },
  {
   "cell_type": "markdown",
   "metadata": {
    "nbgrader": {
     "grade": false,
     "grade_id": "cell-30b3a34c2b1a2933",
     "locked": true,
     "schema_version": 1,
     "solution": false
    }
   },
   "source": [
    "#### ЛИТЕРАТУРА:\n",
    "1. Амосов А.А., Дубинский Ю.А., Копченова Н.В. Вычислительные методы для инженеров. М.: Высшая школа, 1994."
   ]
  },
  {
   "cell_type": "code",
   "execution_count": null,
   "metadata": {
    "collapsed": true
   },
   "outputs": [],
   "source": []
  }
 ],
 "metadata": {
  "celltoolbar": "Create Assignment",
  "kernelspec": {
   "display_name": "Python 3",
   "language": "python",
   "name": "python3"
  },
  "language_info": {
   "codemirror_mode": {
    "name": "ipython",
    "version": 3
   },
   "file_extension": ".py",
   "mimetype": "text/x-python",
   "name": "python",
   "nbconvert_exporter": "python",
   "pygments_lexer": "ipython3",
   "version": "3.6.2"
  }
 },
 "nbformat": 4,
 "nbformat_minor": 2
}
