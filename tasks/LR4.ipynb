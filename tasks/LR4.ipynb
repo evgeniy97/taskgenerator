{
 "cells": [
  {
   "cell_type": "markdown",
   "metadata": {
    "nbgrader": {
     "grade": false,
     "grade_id": "cell-db7f23ca3bc2f89c",
     "locked": true,
     "schema_version": 1,
     "solution": false
    }
   },
   "source": [
    "# <center> ЛАБОРАТОРНАЯ  РАБОТА 4 </center>\n",
    "# <center> РЕШЕНИЕ  СИСТЕМ НЕЛИНЕЙНЫХ  УРАВНЕНИЙ </center>\n",
    "\n",
    "Теоретический материал к данной теме содержится в [1, глава 7]."
   ]
  },
  {
   "cell_type": "code",
   "execution_count": 1,
   "metadata": {
    "collapsed": true,
    "nbgrader": {
     "grade": false,
     "grade_id": "cell-60427b40dfcf4dc0",
     "locked": true,
     "schema_version": 1,
     "solution": false
    }
   },
   "outputs": [],
   "source": [
    "from sympy.solvers import solve\n",
    "from sympy import exp, sin, cos, sqrt, log, ln, pi\n",
    "from sympy import Rational as syR\n",
    "from sympy import Symbol, diff\n",
    "from scipy.misc import derivative\n",
    "\n",
    "import numpy as np\n",
    "\n",
    "import matplotlib.pyplot as plt\n",
    "%matplotlib inline"
   ]
  },
  {
   "cell_type": "markdown",
   "metadata": {
    "nbgrader": {
     "grade": false,
     "grade_id": "cell-02e8e7400d395aa9",
     "locked": true,
     "schema_version": 1,
     "solution": false
    }
   },
   "source": [
    "## Задача 1\n",
    "Найти с точностью $\\epsilon = 10^{-6}$ все корни системы нелинейных уравнений:\n",
    "$$f_1(x_1, x_2)=0,$$\n",
    "$$f_2(x_1, x_2)=0$$\n",
    "используя метод Ньютона для системы нелинейных уравнений. Найти корни с помощью встроенного блока решения уравнений.\n",
    "## Порядок решения задачи\n",
    "1. Локализовать корни системы уравнений графически.  \n",
    "2. Составить программу-функцию, вычисляющую корень системы двух нелинейных уравнений по методу Ньютона с точностью $\\epsilon$. Предусмотреть подсчет количества итераций. \n",
    "3. Используя составленную программу, вычислить все корни заданной системы с точностью $\\epsilon$.\n",
    "4. Используя встроенный блок, найти все корни системы с точностью $\\epsilon$. Сравнить с результатами, полученнными в п. 3.\n",
    "\n",
    "### УКАЗАНИЕ. \n",
    "В п. 1 привеcти уравнения системы к виду $x_2=g_i(x_1)$(либо $x_1=g_i(x_2)$), $i=1, 2$.\n"
   ]
  },
  {
   "cell_type": "markdown",
   "metadata": {
    "nbgrader": {
     "grade": false,
     "grade_id": "cell-fc7686093eca256f",
     "locked": true,
     "schema_version": 1,
     "solution": false
    }
   },
   "source": [
    "Ваша система уравнений:\n",
    "$f1(x1,x2) = {Task1[TASK_VARIANT][f1_latex]}$  \n",
    "$f2(x1,x2) = {Task1[TASK_VARIANT][f2_latex]}$"
   ]
  },
  {
   "cell_type": "code",
   "execution_count": 2,
   "metadata": {
    "nbgrader": {
     "grade": false,
     "grade_id": "cell-b8516233654d7943",
     "locked": true,
     "schema_version": 1,
     "solution": false
    }
   },
   "outputs": [
    {
     "ename": "NameError",
     "evalue": "name 'Task1' is not defined",
     "output_type": "error",
     "traceback": [
      "\u001b[1;31m---------------------------------------------------------------------------\u001b[0m",
      "\u001b[1;31mNameError\u001b[0m                                 Traceback (most recent call last)",
      "\u001b[1;32m<ipython-input-2-7f8a9f8fcd3e>\u001b[0m in \u001b[0;36m<module>\u001b[1;34m()\u001b[0m\n\u001b[0;32m      1\u001b[0m \u001b[0mepsilon1\u001b[0m \u001b[1;33m=\u001b[0m \u001b[1;36m10\u001b[0m\u001b[1;33m**\u001b[0m\u001b[1;33m(\u001b[0m\u001b[1;33m-\u001b[0m\u001b[1;36m6\u001b[0m\u001b[1;33m)\u001b[0m\u001b[1;33m\u001b[0m\u001b[0m\n\u001b[0;32m      2\u001b[0m \u001b[1;31m# Функции\u001b[0m\u001b[1;33m\u001b[0m\u001b[1;33m\u001b[0m\u001b[0m\n\u001b[1;32m----> 3\u001b[1;33m \u001b[0mf1\u001b[0m \u001b[1;33m=\u001b[0m \u001b[1;33m{\u001b[0m\u001b[0mTask1\u001b[0m\u001b[1;33m[\u001b[0m\u001b[0mTASK_VARIANT\u001b[0m\u001b[1;33m]\u001b[0m\u001b[1;33m[\u001b[0m\u001b[0mf1_latex\u001b[0m\u001b[1;33m]\u001b[0m\u001b[1;33m}\u001b[0m\u001b[1;33m\u001b[0m\u001b[0m\n\u001b[0m\u001b[0;32m      4\u001b[0m \u001b[0mf2\u001b[0m \u001b[1;33m=\u001b[0m \u001b[1;33m{\u001b[0m\u001b[0mTask1\u001b[0m\u001b[1;33m[\u001b[0m\u001b[0mTASK_VARIANT\u001b[0m\u001b[1;33m]\u001b[0m\u001b[1;33m[\u001b[0m\u001b[0mf2_latex\u001b[0m\u001b[1;33m]\u001b[0m\u001b[1;33m}\u001b[0m\u001b[1;33m\u001b[0m\u001b[0m\n",
      "\u001b[1;31mNameError\u001b[0m: name 'Task1' is not defined"
     ]
    }
   ],
   "source": [
    "epsilon1 = 10**(-6)\n",
    "# Функции\n",
    "f1 = {Task1[TASK_VARIANT][f1_latex]}\n",
    "f2 = {Task1[TASK_VARIANT][f2_latex]}"
   ]
  },
  {
   "cell_type": "markdown",
   "metadata": {
    "nbgrader": {
     "grade": false,
     "grade_id": "cell-7ed3cac5420e9e1b",
     "locked": true,
     "schema_version": 1,
     "solution": false
    }
   },
   "source": [
    "Локализуйте корни уравнения графически, используя пакет matplotlib"
   ]
  },
  {
   "cell_type": "code",
   "execution_count": null,
   "metadata": {
    "collapsed": true,
    "nbgrader": {
     "grade": true,
     "grade_id": "cell-9412af65d1b7690f",
     "locked": false,
     "points": 0,
     "schema_version": 1,
     "solution": true
    }
   },
   "outputs": [],
   "source": [
    "##график"
   ]
  },
  {
   "cell_type": "markdown",
   "metadata": {
    "nbgrader": {
     "grade": false,
     "grade_id": "cell-fc035fe09ebc7fdd",
     "locked": true,
     "schema_version": 1,
     "solution": false
    }
   },
   "source": [
    "Реализуйте функцию, вычисляющую корень системы двух нелинейных уравнений по методу Ньютона с точностью $\\varepsilon$. Не забудьте предусмотерть подсчет количества итераций."
   ]
  },
  {
   "cell_type": "code",
   "execution_count": null,
   "metadata": {
    "collapsed": true,
    "nbgrader": {
     "grade": true,
     "grade_id": "cell-a118f2a5c12d43cc",
     "locked": false,
     "points": 0,
     "schema_version": 1,
     "solution": true
    }
   },
   "outputs": [],
   "source": [
    "def meth_newt(x,y, epsilon):\n",
    "    "
   ]
  },
  {
   "cell_type": "markdown",
   "metadata": {
    "nbgrader": {
     "grade": false,
     "grade_id": "cell-74d48f6f23169a72",
     "locked": true,
     "schema_version": 1,
     "solution": false
    }
   },
   "source": [
    "Вычислите корни заданной системы с нужной точностью."
   ]
  },
  {
   "cell_type": "code",
   "execution_count": null,
   "metadata": {
    "collapsed": true,
    "nbgrader": {
     "grade": false,
     "grade_id": "cell-cf41b7b02578d25b",
     "locked": false,
     "schema_version": 1,
     "solution": true
    }
   },
   "outputs": [],
   "source": [
    "##два ответа с корнями"
   ]
  },
  {
   "cell_type": "markdown",
   "metadata": {
    "nbgrader": {
     "grade": false,
     "grade_id": "cell-43425092606f415d",
     "locked": true,
     "schema_version": 1,
     "solution": false
    }
   },
   "source": [
    "Проверьте ответ, полученный Вашей программой, с ответом, полученной встроенной функцией (например, nsolve)."
   ]
  },
  {
   "cell_type": "code",
   "execution_count": null,
   "metadata": {
    "collapsed": true
   },
   "outputs": [],
   "source": []
  },
  {
   "cell_type": "markdown",
   "metadata": {
    "nbgrader": {
     "grade": false,
     "grade_id": "cell-fc41f93966d54a02",
     "locked": true,
     "schema_version": 1,
     "solution": false
    }
   },
   "source": [
    "#### ЛИТЕРАТУРА:\n",
    "1. Амосов А.А., Дубинский Ю.А., Копченова Н.В. Вычислительные методы для инженеров. М.: Высшая школа, 1994.\n"
   ]
  },
  {
   "cell_type": "code",
   "execution_count": null,
   "metadata": {
    "collapsed": true
   },
   "outputs": [],
   "source": []
  }
 ],
 "metadata": {
  "celltoolbar": "Create Assignment",
  "kernelspec": {
   "display_name": "Python 3",
   "language": "python",
   "name": "python3"
  },
  "language_info": {
   "codemirror_mode": {
    "name": "ipython",
    "version": 3
   },
   "file_extension": ".py",
   "mimetype": "text/x-python",
   "name": "python",
   "nbconvert_exporter": "python",
   "pygments_lexer": "ipython3",
   "version": "3.6.2"
  }
 },
 "nbformat": 4,
 "nbformat_minor": 2
}
